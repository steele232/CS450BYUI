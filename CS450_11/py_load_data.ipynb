{
 "cells": [
  {
   "cell_type": "markdown",
   "metadata": {},
   "source": [
    "# Load Data\n",
    "### Iris from Sklearn.datasets"
   ]
  },
  {
   "cell_type": "code",
   "execution_count": 2,
   "metadata": {},
   "outputs": [],
   "source": [
    "import pandas as pd\n",
    "import numpy as np\n",
    "\n",
    "from sklearn import datasets\n",
    "from sklearn.preprocessing import KBinsDiscretizer\n"
   ]
  },
  {
   "cell_type": "code",
   "execution_count": 14,
   "metadata": {},
   "outputs": [],
   "source": [
    "# Load Iris into /datasets directory\n",
    "\n",
    "iris = datasets.load_iris()\n",
    "\n",
    "enc = KBinsDiscretizer(n_bins=7, encode='onehot')\n",
    "X_binned = enc.fit_transform(iris.data)\n",
    "X_binned = pd.DataFrame(X_binned.todense())\n",
    "binned_out = pd.concat([X_binned, pd.DataFrame(iris.target)], axis=1)\n",
    "binned_out.to_csv(\"./datasets/iris_binned.csv\", index=False, header=False)"
   ]
  },
  {
   "cell_type": "markdown",
   "metadata": {},
   "source": [
    "### Voting from CS450_04 directory, UCI Repo"
   ]
  },
  {
   "cell_type": "code",
   "execution_count": 16,
   "metadata": {},
   "outputs": [],
   "source": [
    "# Load Voting into /datasets directory\n",
    "\n",
    "dataset = pd.read_csv(\"../CS450_04/house-votes-84.csv\", header=None, true_values='y', false_values='n', na_values='?')\n",
    "dataset.dropna(axis=0, inplace=True, how='any') # dropping rows\n",
    "X = dataset.drop(columns=[0])\n",
    "y = dataset[[0]]\n",
    "newdataset = pd.concat([X,y], axis=1)\n",
    "newdataset.to_csv(\"./datasets/house_voting_84_post.csv\", index=False, header=False)"
   ]
  },
  {
   "cell_type": "markdown",
   "metadata": {},
   "source": [
    "### Auto-MPG from CS450_04 directory, UCI Repo"
   ]
  },
  {
   "cell_type": "code",
   "execution_count": 36,
   "metadata": {},
   "outputs": [
    {
     "name": "stdout",
     "output_type": "stream",
     "text": [
      "BEFORE changing column names (saved with target in 0 column)\n",
      "   1      2      3       4     5   6  7     0\n",
      "0  8  307.0  130.0  3504.0  12.0  70  1  18.0\n",
      "1  8  350.0  165.0  3693.0  11.5  70  1  15.0\n",
      "2  8  318.0  150.0  3436.0  11.0  70  1  18.0\n",
      "3  8  304.0  150.0  3433.0  12.0  70  1  16.0\n",
      "4  8  302.0  140.0  3449.0  10.5  70  1  17.0\n",
      "AFTER changing column names\n",
      "   0      1      2       3     4   5  6     7\n",
      "0  8  307.0  130.0  3504.0  12.0  70  1  18.0\n",
      "1  8  350.0  165.0  3693.0  11.5  70  1  15.0\n",
      "2  8  318.0  150.0  3436.0  11.0  70  1  18.0\n",
      "3  8  304.0  150.0  3433.0  12.0  70  1  16.0\n",
      "4  8  302.0  140.0  3449.0  10.5  70  1  17.0\n"
     ]
    }
   ],
   "source": [
    "# Load Auto-MPG into /datasets directory\n",
    "\n",
    "dataset = pd.read_csv(\"../CS450_04/auto-mpg.csv\", header=None, \n",
    "                        delim_whitespace=True, na_values=\"?\")\n",
    "dataset.dropna(axis=0, inplace=True, how='any') # dropping rows\n",
    "X = dataset.drop(columns=[0, 8]) # take out column with unique strings\n",
    "y = dataset[[0]]\n",
    "newdataset = pd.concat([X,y], axis=1)\n",
    "print(\"BEFORE changing column names (saved with target in 0 column)\")\n",
    "print(newdataset.head())\n",
    "newdataset.columns = ['0','1','2','3','4','5','6','7']\n",
    "print(\"AFTER changing column names\")\n",
    "print(newdataset.head())\n",
    "newdataset.to_csv(\"./datasets/auto_mpg_post.csv\", header=False, index=False)"
   ]
  },
  {
   "cell_type": "code",
   "execution_count": null,
   "metadata": {},
   "outputs": [],
   "source": []
  }
 ],
 "metadata": {
  "kernelspec": {
   "display_name": "Python 3",
   "language": "python",
   "name": "python3"
  },
  "language_info": {
   "codemirror_mode": {
    "name": "ipython",
    "version": 3
   },
   "file_extension": ".py",
   "mimetype": "text/x-python",
   "name": "python",
   "nbconvert_exporter": "python",
   "pygments_lexer": "ipython3",
   "version": "3.6.6"
  }
 },
 "nbformat": 4,
 "nbformat_minor": 2
}
